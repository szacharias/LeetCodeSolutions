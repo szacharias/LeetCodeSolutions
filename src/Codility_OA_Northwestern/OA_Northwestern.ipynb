{
 "cells": [
  {
   "cell_type": "code",
   "execution_count": 323,
   "metadata": {},
   "outputs": [
    {
     "name": "stdout",
     "output_type": "stream",
     "text": [
      "Is Digit\n"
     ]
    }
   ],
   "source": [
    "c = \"#\"\n",
    "if c.isupper():\n",
    "    print(\"is Upper\")\n",
    "elif c.islower():\n",
    "    print(\"is Lower\")\n",
    "elif all(map(lambda e : e.isdigit(), c)):\n",
    "    print(\"Is Digit\")\n",
    "else:\n",
    "    print(\"Other\")"
   ]
  },
  {
   "cell_type": "code",
   "execution_count": 291,
   "metadata": {},
   "outputs": [],
   "source": [
    "#Q2 \n",
    "def Solution_coin(A):\n",
    "    last1 = A[0]\n",
    "    last2 = 1 - last1\n",
    "    step1 = step2 = 0\n",
    "    for e in A:\n",
    "        if e == last1:\n",
    "            step1 += 1\n",
    "        if e == last2:\n",
    "            step2 += 1\n",
    "        # because we want the expected value to change with  every iteration\n",
    "        last1 = 1 -last1\n",
    "        last2 = 1 - last2 \n",
    "    return min(step1, step2)"
   ]
  },
  {
   "cell_type": "code",
   "execution_count": 292,
   "metadata": {},
   "outputs": [
    {
     "data": {
      "text/plain": [
       "2"
      ]
     },
     "execution_count": 292,
     "metadata": {},
     "output_type": "execute_result"
    }
   ],
   "source": [
    "Solution_coin([1,1,1,1,1])"
   ]
  },
  {
   "cell_type": "code",
   "execution_count": 294,
   "metadata": {},
   "outputs": [
    {
     "data": {
      "text/plain": [
       "5"
      ]
     },
     "execution_count": 294,
     "metadata": {},
     "output_type": "execute_result"
    }
   ],
   "source": [
    "# Version that i thrned in\n",
    "def solution(blocks):\n",
    "    m, n = max(blocks), min(blocks)\n",
    "    return abs(blocks.index(m)-blocks.index(n))+1\n",
    "\n",
    "input =  [1, 5, 5, 2, 6]\n",
    "solution(input)"
   ]
  },
  {
   "cell_type": "code",
   "execution_count": 315,
   "metadata": {},
   "outputs": [],
   "source": [
    "def solution(blocks):\n",
    "    cur, turnl = blocks[1], [[0]]\n",
    "    flat = []\n",
    "    inits = up = cur - blocks[0] > 0\n",
    "    for i, e in enumerate(blocks[2:]):\n",
    "        if e - cur == 0:\n",
    "            flat.append(i+1)\n",
    "        elif (e - cur > 0) or not up:\n",
    "            up = not up\n",
    "            turnl.append(flat + [i+1])\n",
    "            flat = []\n",
    "        else:\n",
    "            flat = []\n",
    "            cur = e\n",
    "    turnl.append([len(blocks)-1])\n",
    "    print(turnl)\n",
    "    dis = [turnl[1][-1]]\n",
    "    \n",
    "    if inits:\n",
    "        temp = range(2, len(turnl)-1, 2) \n",
    "    else:\n",
    "        temp = range(1, len(turnl)-1, 2) \n",
    "    \n",
    "    for i in temp:\n",
    "        dis.append(turnl[i+1][-1]-turnl[i-1][0])\n",
    "    dis.append(turnl[-1][-1] - turnl[-2][0])\n",
    "    \n",
    "    return max(dis) + 1"
   ]
  },
  {
   "cell_type": "code",
   "execution_count": 316,
   "metadata": {},
   "outputs": [
    {
     "name": "stdout",
     "output_type": "stream",
     "text": [
      "[[0], [3], [4]]\n",
      "[[0], [1], [2], [3]]\n",
      "[[0], [1]]\n",
      "[[0], [1, 2], [3], [4, 5], [6], [8]]\n"
     ]
    }
   ],
   "source": [
    "  \n",
    "input =  [1, 5, 5, 2, 6]\n",
    "assert solution(input) == 4\n",
    "\n",
    "input =  [2, 6, 8, 5]\n",
    "assert solution(input) == 3\n",
    "\n",
    "\n",
    "input =  [1 ,1]\n",
    "assert solution(input) == 2\n",
    "\n",
    "input =  [1 ,6, 6, 7, 3, 6, 7, 9 ,3]\n",
    "assert solution(input) == 5"
   ]
  },
  {
   "cell_type": "code",
   "execution_count": null,
   "metadata": {},
   "outputs": [],
   "source": []
  }
 ],
 "metadata": {
  "kernelspec": {
   "display_name": "Python 3",
   "language": "python",
   "name": "python3"
  },
  "language_info": {
   "codemirror_mode": {
    "name": "ipython",
    "version": 3
   },
   "file_extension": ".py",
   "mimetype": "text/x-python",
   "name": "python",
   "nbconvert_exporter": "python",
   "pygments_lexer": "ipython3",
   "version": "3.7.4"
  }
 },
 "nbformat": 4,
 "nbformat_minor": 4
}
