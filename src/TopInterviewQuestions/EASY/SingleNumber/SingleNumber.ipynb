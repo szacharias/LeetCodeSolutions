{
 "cells": [
  {
   "cell_type": "code",
   "execution_count": null,
   "metadata": {},
   "outputs": [],
   "source": [
    "#Given a non-empty array of integers, every element appears twice except for one. Find that single one.\n",
    "#\n",
    "#Note:\n",
    "#\n",
    "#Your algorithm should have a linear runtime complexity. Could you implement it without using extra memory?\n",
    "#\n",
    "#Example 1:\n",
    "#\n",
    "#Input: [2,2,1]\n",
    "#Output: 1\n",
    "#\n",
    "#Example 2:\n",
    "#\n",
    "#Input: [4,1,2,1,2]\n",
    "#Output: 4\n",
    "#\n",
    "#"
   ]
  },
  {
   "cell_type": "code",
   "execution_count": 7,
   "metadata": {},
   "outputs": [],
   "source": [
    "#Using xor\n",
    "def singleNumber( nums) -> int:\n",
    "    a = 0\n",
    "    for i in nums:\n",
    "            a ^= i\n",
    "            print(a, i)\n",
    "    return a\n",
    "            \n",
    "    \n",
    "  "
   ]
  },
  {
   "cell_type": "code",
   "execution_count": 27,
   "metadata": {},
   "outputs": [],
   "source": [
    "# Using hash map\n",
    "def singleNumber( nums) -> int:\n",
    "    hash_table = {} \n",
    "    for x in nums:\n",
    "        try :\n",
    "            hash_table.pop(x)\n",
    "        except:\n",
    "            hash_table[x] = x \n",
    "    \n",
    "    return hash_table.popitem()[0]\n",
    "    \n",
    "  "
   ]
  },
  {
   "cell_type": "code",
   "execution_count": null,
   "metadata": {},
   "outputs": [],
   "source": [
    "# Using iterations"
   ]
  },
  {
   "cell_type": "code",
   "execution_count": 28,
   "metadata": {},
   "outputs": [],
   "source": [
    "input = [2,2,1]\n",
    "input2 = [4,1,2,1,2] \n",
    "assert singleNumber(input) == 1\n",
    "assert singleNumber(input2) == 4\n",
    "\n"
   ]
  }
 ],
 "metadata": {
  "kernelspec": {
   "display_name": "Python 3",
   "language": "python",
   "name": "python3"
  },
  "language_info": {
   "codemirror_mode": {
    "name": "ipython",
    "version": 3
   },
   "file_extension": ".py",
   "mimetype": "text/x-python",
   "name": "python",
   "nbconvert_exporter": "python",
   "pygments_lexer": "ipython3",
   "version": "3.7.3"
  }
 },
 "nbformat": 4,
 "nbformat_minor": 2
}
