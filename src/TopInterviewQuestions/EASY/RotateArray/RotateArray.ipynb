{
 "cells": [
  {
   "cell_type": "code",
   "execution_count": null,
   "metadata": {},
   "outputs": [],
   "source": [
    "# Question\n",
    "#Input: [1,2,3,4,5,6,7] and k = 3\n",
    "#Output: [5,6,7,1,2,3,4]\n",
    "#Explanation:\n",
    "#rotate 1 steps to the right: [7,1,2,3,4,5,6]\n",
    "#rotate 2 steps to the right: [6,7,1,2,3,4,5]\n",
    "#rotate 3 steps to the right: [5,6,7,1,2,3,4]\n",
    "\n",
    "#Input: [-1,-100,3,99] and k = 2\n",
    "#Output: [3,99,-1,-100]\n",
    "#Explanation: \n",
    "#rotate 1 steps to the right: [99,-1,-100,3]\n",
    "#rotate 2 steps to the right: [3,99,-1,-100]"
   ]
  },
  {
   "cell_type": "code",
   "execution_count": 42,
   "metadata": {
    "scrolled": true
   },
   "outputs": [
    {
     "name": "stdout",
     "output_type": "stream",
     "text": [
      "7\n"
     ]
    }
   ],
   "source": [
    "\n",
    "return_list = []\n",
    "init_list = [1,2,3,4,5,6,7]\n",
    "nums = [-1, -100, 3, 99]\n",
    "k = 2 "
   ]
  },
  {
   "cell_type": "code",
   "execution_count": 35,
   "metadata": {},
   "outputs": [
    {
     "name": "stdout",
     "output_type": "stream",
     "text": [
      "4\n",
      "[3, 99, -1, -100]\n"
     ]
    }
   ],
   "source": [
    "\n",
    "for x in range(0, len(nums)):\n",
    "    old_pointer = len(nums)-k + x\n",
    "    if old_pointer >= len(nums):\n",
    "        old_pointer = old_pointer - len(nums) \n",
    "    return_list.append(nums[old_pointer]) \n",
    "nums[:] = list(return_list)\n",
    "print(len(nums))\n",
    "print(nums)"
   ]
  },
  {
   "cell_type": "code",
   "execution_count": null,
   "metadata": {},
   "outputs": [],
   "source": [
    "\n",
    "# Final Accepted Solution\n",
    "## Passed all test cases\n",
    "\n",
    "## Optimal Answer\n",
    "### 3 minutes ago\tAccepted\t68 ms\t15.1 MB\tpython3\n",
    "\n",
    "## My Answer\n",
    "### 6 minutes ago\tAccepted\t80 ms\t15.1 MB\tpython3"
   ]
  },
  {
   "cell_type": "code",
   "execution_count": null,
   "metadata": {},
   "outputs": [],
   "source": [
    "#My Solution\n",
    "\n",
    "class Solution:\n",
    "    def rotate(self, nums: List[int], k: int) -> None:\n",
    "        \"\"\"\n",
    "        Do not return anything, modify nums in-place instead.\n",
    "        \"\"\"\n",
    "        return_list = []\n",
    "        for x in range(0, len(nums)):\n",
    "            old_pointer = len(nums)-k + x\n",
    "            if old_pointer >= len(nums):\n",
    "                old_pointer = old_pointer - len(nums) \n",
    "            return_list.append(nums[old_pointer])\n",
    "        print(return_list)\n",
    "        nums[:]=list(return_list)"
   ]
  },
  {
   "cell_type": "code",
   "execution_count": null,
   "metadata": {},
   "outputs": [],
   "source": [
    "\n",
    "##Optimal Solution\n",
    "#reverse the first n - k elements\n",
    "#\n",
    "#reverse the rest of them\n",
    "#\n",
    "#reverse the entire array\n",
    "\n",
    "class Solution(object):\n",
    "    \n",
    "    def rotate(self, nums, k):\n",
    "        # when K is invalid to calculate \n",
    "        if k is None or k <= 0:\n",
    "            return\n",
    "        \n",
    "        # 處理 K > len(nums)\n",
    "        k, end = k % len(nums), len(nums) - 1\n",
    "        self.reverse(nums, 0, end - k)\n",
    "        self.reverse(nums, end - k + 1, end)\n",
    "        self.reverse(nums, 0, end)\n",
    "        \n",
    "    def reverse(self, nums, start, end):\n",
    "        while start < end:\n",
    "            nums[start], nums[end] = nums[end], nums[start]\n",
    "            start, end = start + 1, end - 1"
   ]
  },
  {
   "cell_type": "code",
   "execution_count": 58,
   "metadata": {},
   "outputs": [
    {
     "name": "stdout",
     "output_type": "stream",
     "text": [
      "1 6\n",
      "[1, 2, 3, 4, 5, 6, 7]\n",
      "[6, 5, 4, 3, 2, 1, 7]\n",
      "[6, 5, 4, 3, 2, 1, 7]\n",
      "\n",
      "\n",
      "[7, 1, 2, 3, 4, 5, 6]\n"
     ]
    }
   ],
   "source": [
    "\n",
    "\n",
    "#Testing Results\n",
    "def rotate(nums, k):\n",
    "    # when K is invalid to calculate \n",
    "    if k is None or k <= 0:\n",
    "        return\n",
    "    \n",
    "    # 處理 K > len(nums)\n",
    "    k, end = k % len(nums), len(nums) - 1\n",
    "    print(k , len(nums)-1)\n",
    "    print(nums)\n",
    "    \n",
    "    reverse(nums, 0, end - k)\n",
    "    print(nums)\n",
    "    reverse(nums, end - k + 1, end)\n",
    "    print(nums)\n",
    "    reverse(nums, 0, end)  \n",
    "    \n",
    "# 兩個數字互換\n",
    "def reverse( nums, start, end):\n",
    "    while start < end:\n",
    "        nums[start], nums[end] = nums[end], nums[start]\n",
    "        start, end = start + 1, end - 1\n",
    "\n",
    "init_list = [1,2,3,4,5,6,7]\n",
    "k = 3\n",
    "rotate(init_list, k)\n",
    "print(\"\\n\")\n",
    "print(init_list)"
   ]
  }
 ],
 "metadata": {
  "kernelspec": {
   "display_name": "Python 3",
   "language": "python",
   "name": "python3"
  },
  "language_info": {
   "codemirror_mode": {
    "name": "ipython",
    "version": 3
   },
   "file_extension": ".py",
   "mimetype": "text/x-python",
   "name": "python",
   "nbconvert_exporter": "python",
   "pygments_lexer": "ipython3",
   "version": "3.7.3"
  }
 },
 "nbformat": 4,
 "nbformat_minor": 2
}
